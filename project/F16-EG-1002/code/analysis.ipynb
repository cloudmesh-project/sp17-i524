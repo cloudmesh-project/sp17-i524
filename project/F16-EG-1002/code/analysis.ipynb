{
 "cells": [
  {
   "cell_type": "markdown",
   "metadata": {
    "collapsed": false,
    "scrolled": false
   },
   "source": [
    "\n",
    "# Introduction\n",
    "Seismology is the study of earthquakes and seismic waves that move through and around the earth[1].\n",
    "\n",
    "# What we want to do\n",
    "Seismic wave includes metadata and physical waveform files. Metadata includes crucial information about seismic waves like event, origin, station, etc. Waveform files includes the physical waveforms. The Waveform file is binary file, with artificial noises mixed within it, impossible to read and analyze. We learnt about how seismic travel through Earth in the midterm project. For the final one, we wanted to learn how seismic wave travel on the surface of Earth, which was called Ground Motion Visualization is Seismoloy. \n",
    "\n",
    "Our goal is to build an animation for GMV on web page. So we need to assemble our data and play it frame by frame. To do that, we selected an event that had more stations recording it, so we can have a clearer picture of how the seismic wave travels."
   ]
  },
  {
   "cell_type": "markdown",
   "metadata": {},
   "source": [
    "\n",
    "# Relevant Work\n",
    "There is a project called USArray GMV[2], which is the visualizations of real data showing how seismic waves sweep across the USArray network of seismic stations and Watch how seismic waves from earthquakes in the US and around the world cause the ground to move at each seismometer.\n",
    "\n",
    "# Tools and visualization techniques\n",
    "We use obspy[3], a Python Toolbox for seismology/seismological observatories. It provides parsers for common file formats, clients to access data centers and seismological signal processing routines which allow the manipulation of seismological time series. We also use matplotlib and numpy.\n",
    "\n",
    "For visualization methods, we use heat map and javascript to animate GMV."
   ]
  },
  {
   "cell_type": "markdown",
   "metadata": {},
   "source": [
    "The following functions are all from mid-term project, filtering[4] and decimation[5] are very important in seismic wave processing. "
   ]
  },
  {
   "cell_type": "code",
   "execution_count": 372,
   "metadata": {
    "collapsed": false
   },
   "outputs": [
    {
     "name": "stdout",
     "output_type": "stream",
     "text": [
      "The autoreload extension is already loaded. To reload it, use:\n",
      "  %reload_ext autoreload\n"
     ]
    }
   ],
   "source": [
    "%matplotlib inline\n",
    "\n",
    "import matplotlib\n",
    "import numpy as np\n",
    "import matplotlib.pyplot as plt\n",
    "%load_ext autoreload  \n",
    "%autoreload 2   # Reload all modules (except those excluded by %aimport) every time\n",
    "import sys\n",
    "\n",
    "\n",
    "\"\"\"\n",
    "\"\"\"\n",
    "def usage():\n",
    "    print 'python reader.py [OPTIONS]\\n\\\n",
    "    \\t -h --help\\t\\t\\tPrint this help screen\\n\\\n",
    "    \\t -i --mongodb_host\\t\\tMongoDB server host (default: localhost)\\n\\\n",
    "    \\t -p --mongodb_port\\t\\tMongoDB server port (default: 27017)\\n '\n",
    "\n",
    "def createMongoClient(mongodb_host, mongodb_port):\n",
    "    from pymongo import MongoClient\n",
    "    try:\n",
    "        mongoclient = MongoClient('mongodb://' + mongodb_host + ':' + mongodb_port)\n",
    "        mongodb = mongoclient['test']\n",
    "        return mongodb\n",
    "    except pymongo.errors.ConnnectionFailure, e:\n",
    "        print('Could not connect to MongoDB: %s' % e)\n",
    "        sys.exit(1)\n",
    "        \n",
    "def filtering(tr):\n",
    "    tr_filt = tr.copy()\n",
    "    tr_filt.filter('lowpass', freq=1.0, corners=2, zerophase=True)\n",
    "    t = np.arange(0, tr.stats.npts / tr.stats.sampling_rate, tr.stats.delta)\n",
    "    plt.subplot(211)\n",
    "    plt.plot(t, tr.data, 'k', label='Raw')\n",
    "    plt.ylabel('Raw Data')\n",
    "    plt.xlim(0, 50)\n",
    "    plt.subplot(212)\n",
    "    plt.plot(t, tr_filt.data, 'k', label='Lowpassed')\n",
    "    plt.ylabel('Lowpassed Data')\n",
    "    plt.xlabel('Time [s]')\n",
    "    plt.xlim(0, 50)\n",
    "    plt.suptitle(tr.stats.starttime)\n",
    "    plt.show()\n",
    "\n",
    "def downSampling(tr):\n",
    "    tr_new = tr.copy()\n",
    "    tr_new.decimate(factor=4, strict_length=False)\n",
    "    tr_filt = tr.copy()\n",
    "    tr_filt.filter('lowpass', freq=0.4 * tr.stats.sampling_rate / 4.0)\n",
    "\n",
    "    # Now let's plot the raw and filtered data...\n",
    "    t = np.arange(0, tr.stats.npts / tr.stats.sampling_rate, tr.stats.delta)\n",
    "    t_new = np.arange(0, tr_new.stats.npts / tr_new.stats.sampling_rate,\n",
    "                  tr_new.stats.delta)\n",
    "\n",
    "    plt.plot(t, tr.data, 'k', label='Raw', alpha=0.3)\n",
    "    plt.plot(t, tr_filt.data, 'b', label='Lowpassed', alpha=0.7)\n",
    "    plt.plot(t_new, tr_new.data, 'r', label='Lowpassed/Downsampled', alpha=0.7)\n",
    "    plt.xlabel('Time [s]')\n",
    "    plt.xlim(100, 140)\n",
    "    plt.suptitle(tr.stats.starttime)\n",
    "    plt.legend()\n",
    "    plt.show()"
   ]
  },
  {
   "cell_type": "markdown",
   "metadata": {},
   "source": [
    "Our data including the metadata and waveform are stored in MongoDB, so we read our event from MongoDB using PyMongo[6]. The event we selected were happened at 2009-04-07 04:23:00 UTC."
   ]
  },
  {
   "cell_type": "code",
   "execution_count": 371,
   "metadata": {
    "collapsed": false
   },
   "outputs": [
    {
     "name": "stdout",
     "output_type": "stream",
     "text": [
      "{u'dtype': u'-', u'lat': u'46.0490', u'depdp': u'-', u'orid': u'16260', u'lon': u'151.5480', u'mbid': u'-', u'time': u'1239078213.15000', u'etype': u'-1', u'msid': u'-1', u'jdate': u'1962', u'auth': u'-1', u'grn': u'-1', u'mlid': u'-1', u'nass': u'2009097', u'algorithm': u'-999.00', u'mb': u'-999.0000', u'ml': u'-999.00', u'srn': u'-1', u'ndef': u'450', u'depth': u'31.0000', u'ms': u'-999.00', u'commid': u'-', u'ndp': u'0', u'lddate': u'-', u'_id': ObjectId('561eb2ae670d1d33473b586a')}\n"
     ]
    }
   ],
   "source": [
    "\n",
    "mongodb_host = '192.168.0.30'\n",
    "mongodb_port = '27017'    \n",
    "#init mongodb collection\n",
    "mongodb = createMongoClient(mongodb_host, mongodb_port)\n",
    "try:\n",
    "     #fetch \n",
    "    wfdisc = mongodb['wfdisc']\n",
    "    arrivals = mongodb['arrival']\n",
    "    origins = mongodb['origin']\n",
    "    sites = mongodb['site']\n",
    "except pymongo.errors.CollectionInvalid, e:\n",
    "    print('Collection %s is not valid' % e)\n",
    "    sys.exit(1)\n",
    "    \n",
    "from obspy.core import UTCDateTime\n",
    "origin_cursor = origins.find()\n",
    "wfdisc_cursor = wfdisc.find()\n",
    "arrival_cursor = arrivals.find()\n",
    "    \n",
    "time = UTCDateTime(\"2009-04-07T04:23:00\") #6 \n",
    "#print(time.timestamp)   \n",
    "timestamp = str(time.timestamp)[:6]\n",
    "    \n",
    "#origin\n",
    "for origin in origin_cursor :\n",
    "    if origin['time'][:6] == timestamp:\n",
    "        print origin"
   ]
  },
  {
   "cell_type": "markdown",
   "metadata": {},
   "source": [
    "# Extracting data\n",
    "In this part, we extracted the data that we need to visualize.\n",
    "Firstly, we get all stations' latitude, longitude in the US. Since we wanted to depict the vertical motion of the ground, we chose the BHZ trace as our meta data, which represented the vertical movement of ground motion. After filtering out the noise in BHZ trace data, we combined the amplitude data with their related station information where the seismic wave amplitude data is observed."
   ]
  },
  {
   "cell_type": "code",
   "execution_count": 369,
   "metadata": {
    "collapsed": true
   },
   "outputs": [],
   "source": [
    "n = 1\n",
    "file_list = []\n",
    "wdata_list = []\n",
    "start = 223909000000.0\n",
    "end = 0.0\n",
    "negmax = 0\n",
    "negmin = -10000\n",
    "posmax = 0\n",
    "posmin = 10000\n",
    "num = 0;\n",
    "from obspy.core import read\n",
    "for w in wfdisc_cursor :\n",
    "    if w['time'][:6] == timestamp:\n",
    "        n += 1\n",
    "        if n == 3:\n",
    "            #print w\n",
    "            \n",
    "            for arrival in arrival_cursor :\n",
    "                if arrival['sta'] == w['sta']:\n",
    "                    stationName = arrival['sta']\n",
    "                    site_cursor = sites.find({'sta' : stationName})\n",
    "                    for site in site_cursor : \n",
    "                        lat = site['lat']\n",
    "                        lon = site['lon']\n",
    "                    break\n",
    "            \n",
    "            path = '/home/centos/final/' + w['dfile']\n",
    "            f = read(path)\n",
    "            \n",
    "            if len(f[2].data) == 22400:\n",
    "                #filtering(f[2])\n",
    "                #break\n",
    "                tr = f[2].copy()\n",
    "                tr.filter('lowpass', freq=1.0, corners=2, zerophase=True)\n",
    "                wdata_list.append({'station':stationName, 'lat':lat, 'lon':lon, 'start_time':w['time'], 'end_time':w['endtime'], 'data':tr.data, 'index':0})\n",
    "                if float(w['endtime']) > end:\n",
    "                    end = float(w['endtime'])\n",
    "                if float(w['time']) < start:\n",
    "                    start = float(w['time'])\n",
    "                #print(w)\n",
    "                file_list.append(path)\n",
    "            n = 0"
   ]
  },
  {
   "cell_type": "markdown",
   "metadata": {},
   "source": [
    "Then we sorted all the data based on their time line and put them in a big tuple for later use."
   ]
  },
  {
   "cell_type": "code",
   "execution_count": 361,
   "metadata": {
    "collapsed": false
   },
   "outputs": [
    {
     "name": "stdout",
     "output_type": "stream",
     "text": [
      "2501790\n"
     ]
    }
   ],
   "source": [
    "%matplotlib inline\n",
    "import numpy as np\n",
    "import pandas as pd\n",
    "import matplotlib.pyplot as plt\n",
    "data = []\n",
    "t = start\n",
    "while (t < end):\n",
    "    for wdata in wdata_list:\n",
    "        if float(wdata['start_time']) <= t and float(wdata['end_time']) >= t:\n",
    "            data.append(wdata['data'][wdata['index']])\n",
    "            i = wdata_list.index(wdata)\n",
    "            wdata_list[i]['index'] += 1\n",
    "    t = t + interval\n"
   ]
  },
  {
   "cell_type": "markdown",
   "metadata": {},
   "source": [
    "# Analyzing data\n",
    "\n",
    "1.Get Start_time and End_time.\n",
    "\n",
    "2.Using numpy library to plot the histogram of all amplitude data and get the 15% percentile and 85% percentile of amplitude data."
   ]
  },
  {
   "cell_type": "code",
   "execution_count": 362,
   "metadata": {
    "collapsed": false,
    "scrolled": false
   },
   "outputs": [
    {
     "name": "stdout",
     "output_type": "stream",
     "text": [
      "2009-04-07 04:32:02\n",
      "2009-04-07 04:44:30.025000\n",
      "2009-04-07 04:44:30.025000\n",
      "-1290.17742186\n",
      "1943.95935506\n"
     ]
    },
    {
     "data": {
      "image/png": "[encoded data removed]",
      "text/plain": [
       "<matplotlib.figure.Figure at 0x3a4c0dd0>"
      ]
     },
     "metadata": {},
     "output_type": "display_data"
    }
   ],
   "source": [
    "import datetime\n",
    "print (datetime.datetime.utcfromtimestamp(start))\n",
    "\n",
    "print (datetime.datetime.utcfromtimestamp(end))\n",
    "print(datetime.datetime.utcfromtimestamp(1239079470.02500))\n",
    "a, b, c = plt.hist(data, 100)\n",
    "\n",
    "print(np.percentile(data, 15))\n",
    "print(np.percentile(data, 85))\n",
    "# print(c)"
   ]
  },
  {
   "cell_type": "markdown",
   "metadata": {},
   "source": [
    "# Processing data\n",
    "\n",
    "In this part, we process data extracted above.\n",
    "Firstly, we set the sample rate as 10, which means that the time interval of reading every two successive data is 0.1s and it is downsampled to a quarter of original sample rate. Then we relate the amplitude that we read to 'density' value which is the key property in heatmap method we used later in our visualization. Also, we combine the density with latitude and longitude of station where the data we get and generate a 3-element tuple. So everytime we read data, we will get 450 tuples(because there are 450 stations in the US). These 450 tuples make up a 'frame' in our visualization. In addition, we divide these 450 tuples into 3 groups. The first group consists of all tuples that their density represents the positive amplitude, the second group consists of all tuples that their density represents the negtive amplitude and the last group consists of all tuples that their density represents that the station didn't receive seismic data."
   ]
  },
  {
   "cell_type": "code",
   "execution_count": 365,
   "metadata": {
    "collapsed": false,
    "scrolled": false
   },
   "outputs": [],
   "source": [
    "interval = 0.1\n",
    "t = start + 0\n",
    "frame = []\n",
    "while (t <= end):\n",
    "    pos = []\n",
    "    neg = []\n",
    "    zero = []\n",
    "    for wdata in wdata_list:\n",
    "        if float(wdata['start_time']) <= t and float(wdata['end_time']) >= t:\n",
    "            if wdata['data'][wdata['index']] < -1308.0:\n",
    "                neg.append([wdata['lat'], wdata['lon'], 2500])\n",
    "            elif wdata['data'][wdata['index']] > 1955.0:\n",
    "                pos.append([wdata['lat'], wdata['lon'], 2500])\n",
    "            else:\n",
    "                n = wdata['data'][wdata['index']]\n",
    "                if n < 0:\n",
    "                    neg.append([wdata['lat'], wdata['lon'], 300 - n * 2200 / 1648])  \n",
    "                elif 0 < n and n < 340:\n",
    "                    neg.append([wdata['lat'], wdata['lon'], 300 + n * 2200 / 1648])  \n",
    "                elif n > 340:\n",
    "                    pos.append([wdata['lat'], wdata['lon'], 300 + n * 2200 / 1615])   \n",
    "                else:\n",
    "                    #print(\"bingo\")\n",
    "                    zero.append([wdata['lat'], wdata['lon'], 1200])\n",
    "               \n",
    "            i = wdata_list.index(wdata)\n",
    "            wdata_list[i]['index'] += 4\n",
    "        else:\n",
    "            zero.append([wdata['lat'], wdata['lon'], 1200])\n",
    "    \n",
    "    frame.append([pos, neg, zero]) \n",
    "    t = t + interval"
   ]
  },
  {
   "cell_type": "markdown",
   "metadata": {},
   "source": [
    "# Outputting data\n",
    "\n",
    "In this part, we wrote the tuples generated above to javascript file. Because the data was so 'big' that if we write them to only one file, it cost so much time to load the javescript file and may cause web crash, we wrote the data to 4 seperate file. We stored them in four array variables in javascript file. And all we need to do in web page was to oad these four variables and read them element by element."
   ]
  },
  {
   "cell_type": "code",
   "execution_count": 366,
   "metadata": {
    "collapsed": true
   },
   "outputs": [],
   "source": [
    "f = open(\"seismic_3groups_1.js\", \"w\")\n",
    "f.write(\"var pos1 =[\")\n",
    "for n in range(len(frame)/4):\n",
    "    fr = frame[n]\n",
    "    f.write(\"[\")\n",
    "    f.write(\"[\")\n",
    "    if len(fr[0]) > 0:\n",
    "        for j in range( len(fr[0]) ):\n",
    "            f.write(\"[\" + fr[0][j][0] + \",\" + fr[0][j][1] + \",\" + str(fr[0][j][2]) + \"]\")\n",
    "            if j != len(fr[0]) - 1:\n",
    "                f.write(\",\")\n",
    "    f.write(\"],[\")\n",
    "    if len(fr[1]) > 0:\n",
    "        for j in range(len (fr[1]) ):\n",
    "            f.write(\"[\" + fr[1][j][0] + \",\" + fr[1][j][1] + \",\" + str(fr[1][j][2]) + \"]\")\n",
    "            if j != len(fr[1]) - 1:\n",
    "                f.write(\",\")   \n",
    "    f.write(\"],[\")\n",
    "    if len(fr[2]) > 0:\n",
    "        for j in range(len (fr[2]) ):\n",
    "            f.write(\"[\" + fr[2][j][0] + \",\" + fr[2][j][1] + \",\" + str(fr[2][j][2]) + \"]\")\n",
    "            if j != len(fr[2]) - 1:\n",
    "                f.write(\",\")  \n",
    "    f.write(\"]]\")\n",
    "    if n != len(frame)/4 - 1:\n",
    "        f.write(\",\")\n",
    "    f.write(\"\\n\")\n",
    "f.write(\"];\")\n",
    "f.close()\n",
    "\n",
    "f = open(\"seismic_3groups_2.js\", \"w\")\n",
    "f.write(\"var pos2 =[\")\n",
    "for n in range(len(frame)/4, len(frame)/2):\n",
    "    fr = frame[n]\n",
    "    f.write(\"[\")\n",
    "    f.write(\"[\")\n",
    "    if len(fr[0]) > 0:\n",
    "        for j in range( len(fr[0]) ):\n",
    "            f.write(\"[\" + fr[0][j][0] + \",\" + fr[0][j][1] + \",\" + str(fr[0][j][2]) + \"]\")\n",
    "            if j != len(fr[0]) - 1:\n",
    "                f.write(\",\")\n",
    "    f.write(\"],[\")\n",
    "    if len(fr[1]) > 0:\n",
    "        for j in range(len (fr[1]) ):\n",
    "            f.write(\"[\" + fr[1][j][0] + \",\" + fr[1][j][1] + \",\" + str(fr[1][j][2]) + \"]\")\n",
    "            if j != len(fr[1]) - 1:\n",
    "                f.write(\",\")   \n",
    "    f.write(\"],[\")\n",
    "    if len(fr[2]) > 0:\n",
    "        for j in range(len (fr[2]) ):\n",
    "            f.write(\"[\" + fr[2][j][0] + \",\" + fr[2][j][1] + \",\" + str(fr[2][j][2]) + \"]\")\n",
    "            if j != len(fr[2]) - 1:\n",
    "                f.write(\",\")  \n",
    "    f.write(\"]]\")\n",
    "    if n != len(frame)/2 - 1:\n",
    "        f.write(\",\")\n",
    "    f.write(\"\\n\")\n",
    "f.write(\"];\")\n",
    "f.close()\n",
    "\n",
    "f = open(\"seismic_3groups_3.js\", \"w\")\n",
    "f.write(\"var pos3 =[\")\n",
    "for n in range(len(frame)/2, len(frame)/4 * 3):\n",
    "    fr = frame[n]\n",
    "    f.write(\"[\")\n",
    "    f.write(\"[\")\n",
    "    if len(fr[0]) > 0:\n",
    "        for j in range( len(fr[0]) ):\n",
    "            f.write(\"[\" + fr[0][j][0] + \",\" + fr[0][j][1] + \",\" + str(fr[0][j][2]) + \"]\")\n",
    "            if j != len(fr[0]) - 1:\n",
    "                f.write(\",\")\n",
    "    f.write(\"],[\")\n",
    "    if len(fr[1]) > 0:\n",
    "        for j in range(len (fr[1]) ):\n",
    "            f.write(\"[\" + fr[1][j][0] + \",\" + fr[1][j][1] + \",\" + str(fr[1][j][2]) + \"]\")\n",
    "            if j != len(fr[1]) - 1:\n",
    "                f.write(\",\")   \n",
    "    f.write(\"],[\")\n",
    "    if len(fr[2]) > 0:\n",
    "        for j in range(len (fr[2]) ):\n",
    "            f.write(\"[\" + fr[2][j][0] + \",\" + fr[2][j][1] + \",\" + str(fr[2][j][2]) + \"]\")\n",
    "            if j != len(fr[2]) - 1:\n",
    "                f.write(\",\")  \n",
    "    f.write(\"]]\")\n",
    "    if n != len(frame)/4 * 3 - 1:\n",
    "        f.write(\",\")\n",
    "    f.write(\"\\n\")\n",
    "f.write(\"];\")\n",
    "f.close()\n",
    "\n",
    "f = open(\"seismic_3groups_4.js\", \"w\")\n",
    "f.write(\"var pos4 =[\")\n",
    "for n in range(len(frame)/4 * 3, len(frame)):\n",
    "    fr = frame[n]\n",
    "    f.write(\"[\")\n",
    "    f.write(\"[\")\n",
    "    if len(fr[0]) > 0:\n",
    "        for j in range( len(fr[0]) ):\n",
    "            f.write(\"[\" + fr[0][j][0] + \",\" + fr[0][j][1] + \",\" + str(fr[0][j][2]) + \"]\")\n",
    "            if j != len(fr[0]) - 1:\n",
    "                f.write(\",\")\n",
    "    f.write(\"],[\")\n",
    "    if len(fr[1]) > 0:\n",
    "        for j in range(len (fr[1]) ):\n",
    "            f.write(\"[\" + fr[1][j][0] + \",\" + fr[1][j][1] + \",\" + str(fr[1][j][2]) + \"]\")\n",
    "            if j != len(fr[1]) - 1:\n",
    "                f.write(\",\")   \n",
    "    f.write(\"],[\")\n",
    "    if len(fr[2]) > 0:\n",
    "        for j in range(len (fr[2]) ):\n",
    "            f.write(\"[\" + fr[2][j][0] + \",\" + fr[2][j][1] + \",\" + str(fr[2][j][2]) + \"]\")\n",
    "            if j != len(fr[2]) - 1:\n",
    "                f.write(\",\")  \n",
    "    f.write(\"]]\")\n",
    "    if n != len(frame) - 1:\n",
    "        f.write(\",\")\n",
    "    f.write(\"\\n\")\n",
    "f.write(\"];\")\n",
    "f.close()\n"
   ]
  },
  {
   "cell_type": "markdown",
   "metadata": {},
   "source": [
    "# Why heat map?\n",
    "After we finished the data part, now it came to the web page. In the web page, we selected heat map as our visualization tool. The reason why we did this was that the heat map provided some very good properties like radius, blur and gradient. Especially gradient, with the density, we can map the amplitude of the seismic wave to density easily and show the degree of how much the ground moves up and down by showing the gradient of that dot. Also, because heat map can have multiple heat layers, we can utilize this property to show different types of ground motion. We let the red to represent the positive amplitude, the blue the negative, and the grey the zero. In this way, we have a very clear contrast on the heat map."
   ]
  },
  {
   "cell_type": "markdown",
   "metadata": {},
   "source": [
    "# How to animate?\n",
    "Javascript provided several ways to animate. What we selected was a function called SetInterval. We added one frame of data to the heat map, let it show a interval of time (Modifiable, we used this to adjust the animation speed in our project). Then we cleared the layer and added the next frame of data to the heat map."
   ]
  },
  {
   "cell_type": "markdown",
   "metadata": {},
   "source": [
    "# Interactive functionalities\n",
    "The beauty of web page is that we can interact with the web page. In our project, we also achieve that goal. Even through we only provides some very simple functionalities, you can change the color of stations to show the positive or negative amplitudes. You can also change the animation speed of GMV."
   ]
  },
  {
   "cell_type": "markdown",
   "metadata": {
    "collapsed": true
   },
   "source": [
    "# Reference:\n",
    "\n",
    "[1]What Is Seismology and What Are Seismic Waves http://www.geo.mtu.edu/UPSeis/waves.html\n",
    "\n",
    "[2]USArray GMV http://ds.iris.edu/ds/products/usarraygmv/\n",
    "\n",
    "[3]Obspy https://github.com/obspy/obspy/wiki\n",
    "\n",
    "[4]Filter https://en.wikipedia.org/wiki/Filter_(signal_processing)\n",
    "\n",
    "[5]Decimation https://en.wikipedia.org/wiki/Decimation_(signal_processing)\n",
    "\n",
    "[6]Pymongo https://api.mongodb.org/python/current/"
   ]
  }
 ],
 "metadata": {
  "anaconda-cloud": {},
  "kernelspec": {
   "display_name": "Python 2",
   "language": "python",
   "name": "python2"
  },
  "language_info": {
   "codemirror_mode": {
    "name": "ipython",
    "version": 2
   },
   "file_extension": ".py",
   "mimetype": "text/x-python",
   "name": "python",
   "nbconvert_exporter": "python",
   "pygments_lexer": "ipython2",
   "version": "2.7.12"
  }
 },
 "nbformat": 4,
 "nbformat_minor": 0
}
